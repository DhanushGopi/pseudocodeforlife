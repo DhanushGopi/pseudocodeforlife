{
 "cells": [
  {
   "cell_type": "code",
   "execution_count": 20,
   "id": "33a4986b",
   "metadata": {},
   "outputs": [],
   "source": [
    "def fallingsteps():\n",
    "    patternholder = []\n",
    "    patternlength=int(input(\"enter the number of steps : \"))\n",
    "    patternvalue = input(\"Enter the Symbol need to be printed: \")\n",
    "    for i in range(0,patternlength):\n",
    "        patternholder.append(patternvalue)\n",
    "        print(patternholder)\n",
    "    for j in range(1,patternlength):\n",
    "        patternholder.pop()\n",
    "        print(patternholder)"
   ]
  },
  {
   "cell_type": "code",
   "execution_count": 21,
   "id": "bee0317e",
   "metadata": {},
   "outputs": [
    {
     "name": "stdout",
     "output_type": "stream",
     "text": [
      "enter the number of steps : 5\n",
      "Enter the Symbol need to be printed: 👏\n",
      "['👏']\n",
      "['👏', '👏']\n",
      "['👏', '👏', '👏']\n",
      "['👏', '👏', '👏', '👏']\n",
      "['👏', '👏', '👏', '👏', '👏']\n",
      "['👏', '👏', '👏', '👏']\n",
      "['👏', '👏', '👏']\n",
      "['👏', '👏']\n",
      "['👏']\n"
     ]
    }
   ],
   "source": [
    "fallingsteps()"
   ]
  },
  {
   "cell_type": "code",
   "execution_count": null,
   "id": "a5401eae",
   "metadata": {},
   "outputs": [],
   "source": []
  }
 ],
 "metadata": {
  "kernelspec": {
   "display_name": "Python 3 (ipykernel)",
   "language": "python",
   "name": "python3"
  },
  "language_info": {
   "codemirror_mode": {
    "name": "ipython",
    "version": 3
   },
   "file_extension": ".py",
   "mimetype": "text/x-python",
   "name": "python",
   "nbconvert_exporter": "python",
   "pygments_lexer": "ipython3",
   "version": "3.11.5"
  }
 },
 "nbformat": 4,
 "nbformat_minor": 5
}
