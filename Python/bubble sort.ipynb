{
 "cells": [
  {
   "cell_type": "markdown",
   "id": "cbacbc95",
   "metadata": {},
   "source": [
    "## Bubble sort for the generated list"
   ]
  },
  {
   "cell_type": "markdown",
   "id": "e3f0bd2d",
   "metadata": {},
   "source": [
    "concept : https://www.geeksforgeeks.org/bubble-sort/\n"
   ]
  },
  {
   "cell_type": "code",
   "execution_count": 5,
   "id": "230593aa",
   "metadata": {},
   "outputs": [],
   "source": [
    "def genlist():\n",
    "    usinglist = []\n",
    "    lenlist = int(input(\"Enter the Len of the list:\"))\n",
    "    for i in range (1,lenlist+1):\n",
    "        listvalue=int(input(\"Enter the number:\"))\n",
    "        usinglist.append(listvalue)\n",
    "    print(\"The list going to be used: \",usinglist)\n",
    "    return(usinglist)"
   ]
  },
  {
   "cell_type": "code",
   "execution_count": 6,
   "id": "f36ff716",
   "metadata": {},
   "outputs": [
    {
     "name": "stdout",
     "output_type": "stream",
     "text": [
      "Enter the Len of the list:5\n",
      "Enter the number:2\n",
      "Enter the number:3\n",
      "Enter the number:1\n",
      "Enter the number:4\n",
      "Enter the number:5\n",
      "The list going to be used:  [2, 3, 1, 4, 5]\n"
     ]
    },
    {
     "data": {
      "text/plain": [
       "[2, 3, 1, 4, 5]"
      ]
     },
     "execution_count": 6,
     "metadata": {},
     "output_type": "execute_result"
    }
   ],
   "source": [
    "genlist()\n"
   ]
  },
  {
   "cell_type": "code",
   "execution_count": 21,
   "id": "acba7b7f",
   "metadata": {},
   "outputs": [],
   "source": [
    "def bubblesort(listhere):\n",
    "    copylist = listhere\n",
    "    for i in range(0,len(copylist)):\n",
    "        for j in range(i+1,len(copylist)):\n",
    "            if (copylist[i]>=copylist[j]):\n",
    "                temp = copylist[i]\n",
    "                copylist[i] = copylist[j]\n",
    "                copylist[j] = temp\n",
    "    print(\"The bubble sorted list\", copylist)\n",
    "    return(copylist)"
   ]
  },
  {
   "cell_type": "code",
   "execution_count": 20,
   "id": "7a7ed8d6",
   "metadata": {},
   "outputs": [
    {
     "name": "stdout",
     "output_type": "stream",
     "text": [
      "Enter the Len of the list:10\n",
      "Enter the number:4\n",
      "Enter the number:1\n",
      "Enter the number:2\n",
      "Enter the number:8\n",
      "Enter the number:3\n",
      "Enter the number:9\n",
      "Enter the number:3\n",
      "Enter the number:0\n",
      "Enter the number:34\n",
      "Enter the number:2\n",
      "The list going to be used:  [4, 1, 2, 8, 3, 9, 3, 0, 34, 2]\n",
      "The copy list [0, 1, 2, 2, 3, 3, 4, 8, 9, 34]\n"
     ]
    },
    {
     "data": {
      "text/plain": [
       "[0, 1, 2, 2, 3, 3, 4, 8, 9, 34]"
      ]
     },
     "execution_count": 20,
     "metadata": {},
     "output_type": "execute_result"
    }
   ],
   "source": [
    "bubblesort(genlist())"
   ]
  },
  {
   "cell_type": "markdown",
   "id": "af6e9499",
   "metadata": {},
   "source": []
  }
 ],
 "metadata": {
  "kernelspec": {
   "display_name": "Python 3 (ipykernel)",
   "language": "python",
   "name": "python3"
  },
  "language_info": {
   "codemirror_mode": {
    "name": "ipython",
    "version": 3
   },
   "file_extension": ".py",
   "mimetype": "text/x-python",
   "name": "python",
   "nbconvert_exporter": "python",
   "pygments_lexer": "ipython3",
   "version": "3.11.5"
  }
 },
 "nbformat": 4,
 "nbformat_minor": 5
}
