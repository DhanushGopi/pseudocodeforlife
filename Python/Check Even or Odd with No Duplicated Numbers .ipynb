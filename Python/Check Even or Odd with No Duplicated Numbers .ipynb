{
 "cells": [
  {
   "cell_type": "markdown",
   "id": "d2f2c701",
   "metadata": {},
   "source": [
    "## Generate the list and check the given number is even or odd with no duplicated numbers."
   ]
  },
  {
   "cell_type": "code",
   "execution_count": 1,
   "id": "50c19005",
   "metadata": {},
   "outputs": [],
   "source": [
    "def genlist():\n",
    "    listholder=[]\n",
    "    listlen = int(input(\"Enter the length of the list: \"))\n",
    "    for i in range(0,listlen):\n",
    "        listvalue=int(input(\"Enter the value: \"))\n",
    "        listholder.append(listvalue)\n",
    "    print(\"The list going to use: \",listholder)\n",
    "    return(listholder)"
   ]
  },
  {
   "cell_type": "code",
   "execution_count": 3,
   "id": "a657aaab",
   "metadata": {},
   "outputs": [
    {
     "name": "stdout",
     "output_type": "stream",
     "text": [
      "Enter the length of the list: 5\n",
      "Enter the value: 9\n",
      "Enter the value: 2\n",
      "Enter the value: 3\n",
      "Enter the value: 5\n",
      "Enter the value: 1\n",
      "The list going to use:  [9, 2, 3, 5, 1]\n"
     ]
    },
    {
     "data": {
      "text/plain": [
       "[9, 2, 3, 5, 1]"
      ]
     },
     "execution_count": 3,
     "metadata": {},
     "output_type": "execute_result"
    }
   ],
   "source": [
    "genlist()"
   ]
  },
  {
   "cell_type": "code",
   "execution_count": 6,
   "id": "687bc6cb",
   "metadata": {},
   "outputs": [],
   "source": [
    "def oddoreven(listpassed):\n",
    "    even = []\n",
    "    odd = []\n",
    "    for j in range(0,len(listpassed)):\n",
    "        if listpassed[j] in even:\n",
    "            continue\n",
    "        elif listpassed[j] in odd:\n",
    "            continue\n",
    "        else:\n",
    "            if(listpassed[j]%2==0):\n",
    "                even.append(listpassed[j])\n",
    "            else:\n",
    "                odd.append(listpassed[j])\n",
    "    print(\"The Even Numbers: \", even)\n",
    "    print(\"The Odd Numbers: \",odd)"
   ]
  },
  {
   "cell_type": "code",
   "execution_count": 7,
   "id": "ec48ce34",
   "metadata": {},
   "outputs": [
    {
     "name": "stdout",
     "output_type": "stream",
     "text": [
      "Enter the length of the list: 5\n",
      "Enter the value: 4\n",
      "Enter the value: 3\n",
      "Enter the value: 2\n",
      "Enter the value: 3\n",
      "Enter the value: 2\n",
      "The list going to use:  [4, 3, 2, 3, 2]\n",
      "The Even Numbers:  [4, 2]\n",
      "The Odd Numbers:  [3]\n"
     ]
    }
   ],
   "source": [
    "oddoreven(genlist())"
   ]
  },
  {
   "cell_type": "code",
   "execution_count": null,
   "id": "0afe972f",
   "metadata": {},
   "outputs": [],
   "source": []
  }
 ],
 "metadata": {
  "kernelspec": {
   "display_name": "Python 3 (ipykernel)",
   "language": "python",
   "name": "python3"
  },
  "language_info": {
   "codemirror_mode": {
    "name": "ipython",
    "version": 3
   },
   "file_extension": ".py",
   "mimetype": "text/x-python",
   "name": "python",
   "nbconvert_exporter": "python",
   "pygments_lexer": "ipython3",
   "version": "3.11.5"
  }
 },
 "nbformat": 4,
 "nbformat_minor": 5
}
