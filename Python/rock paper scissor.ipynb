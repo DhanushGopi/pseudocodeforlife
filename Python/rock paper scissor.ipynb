{
 "cells": [
  {
   "cell_type": "markdown",
   "id": "4f439569",
   "metadata": {},
   "source": [
    "Paper > Stone\n",
    "Stone < Scissors\n",
    "Scissor > Paper\n",
    "stone 1 paper 2 scissor 3"
   ]
  },
  {
   "cell_type": "code",
   "execution_count": 16,
   "id": "8e928e68",
   "metadata": {},
   "outputs": [
    {
     "data": {
      "text/plain": [
       "3"
      ]
     },
     "execution_count": 16,
     "metadata": {},
     "output_type": "execute_result"
    }
   ],
   "source": [
    "import random\n",
    "random.randint(1,3)"
   ]
  },
  {
   "cell_type": "code",
   "execution_count": 36,
   "id": "ddcdf4c1",
   "metadata": {},
   "outputs": [
    {
     "name": "stdout",
     "output_type": "stream",
     "text": [
      "Enter the Actionrock\n",
      "The User selected: rock The Enemy Selected:  paper\n",
      "Paper pocketed the rock\n",
      "Enter the Actionrock\n",
      "The User selected: rock The Enemy Selected:  paper\n",
      "Paper pocketed the rock\n",
      "Enter the Actionrock\n",
      "The User selected: rock The Enemy Selected:  rock\n",
      "Tie\n",
      "Enter the Actionscissor\n",
      "The User selected: scissor The Enemy Selected:  rock\n",
      "Rock smashes the scissor\n",
      "The User Score: 0\n",
      "The Enemy Score: 3\n",
      "The enemy won the game!\n"
     ]
    }
   ],
   "source": [
    "import random\n",
    "\n",
    "cards = ['rock','paper','scissor']\n",
    "random.choice(cards)\n",
    "userscore = 0\n",
    "enemyscore = 0\n",
    "\n",
    "while ( userscore<3 and enemyscore<3):\n",
    "\n",
    "    user = input(\"Enter the Action\").lower()\n",
    "    enemy= random.choice(cards)\n",
    "    print(\"The User selected:\",user,\"The Enemy Selected: \",enemy)\n",
    "    if(user == enemy):\n",
    "        print(\"Tie\")\n",
    "    elif(user == cards[0]):\n",
    "        if (enemy == cards[2]):\n",
    "            print(\"Rock smashes the scissor\")\n",
    "            userscore+=1\n",
    "        else:\n",
    "            print(\"Paper pocketed the rock\")\n",
    "            enemyscore+=1\n",
    "    elif (user == cards[1]):\n",
    "            if( enemy == cards[0]):\n",
    "                print(\"Paper pocketed the rock\")\n",
    "                userscore+=1\n",
    "            else:\n",
    "                print(\"Siccors sliced the Paper\")\n",
    "                enemyscore+=1\n",
    "    elif (user == cards[2]):\n",
    "        if ( enemy == cards[1]):\n",
    "            print(\"Siccors sliced the Paper\")\n",
    "            userscore+=1\n",
    "        else:\n",
    "            print(\"Rock smashes the scissor\")\n",
    "            enemyscore+=1\n",
    "    else:\n",
    "        print(\"Enter the value properly as\",cards)\n",
    "print(\"The User Score:\",userscore)\n",
    "print(\"The Enemy Score:\", enemyscore)\n",
    "\n",
    "if(userscore>enemyscore):\n",
    "    \n",
    "    print(\"User won the game!\")\n",
    "else:\n",
    "    print(\"The enemy won the game!\")"
   ]
  },
  {
   "cell_type": "markdown",
   "id": "720b7bb1",
   "metadata": {},
   "source": [
    "<li>import the random module to use the random methods.</li>\n",
    "<li>create a list as 'cards' and hold the rock, paper, scissor values.</li>\n",
    "<li>create two var as 'userscore and enemy score' to hold the score.</li>\n",
    "<li>Using while make it loop, if the both scores are less than 3 proceed to the loop block</li>\n",
    "<li>get the \"user\" value in a var and covert into lower case using \"lower()\" method</li>\n",
    "<li>create a var as 'Enemy' to hold the random value from the \"card\"<li>\n",
    "<li>If both are equal, print tie</li>\n",
    "<li>elif user = 'rock', inside if has \"enemy = scissor\" then, print rock won. else, scissor is won  </li>\n",
    "<li>elif user = 'paper', inside if has \"enemy = rock\" then, print paper won. else, rock is won  </li>\n",
    "<li>elif user = 'rock', inside if has \"enemy = scissor\" then, print rock won. else, scissor is won  </li>\n",
    "<li>elif user = 'scissor', inside if has \"enemy = paper\" then, print scissor won. else, paper is won  </li>\n",
    "<li>On each elif, respective score will be incremented</li>\n",
    "<li>else, failed to give proper input</li>\n",
    "<li>Both scores will be printed</li>\n",
    "<li>If else block is used to print the winner!</li>"
   ]
  },
  {
   "cell_type": "code",
   "execution_count": null,
   "id": "e754535c",
   "metadata": {},
   "outputs": [],
   "source": []
  }
 ],
 "metadata": {
  "kernelspec": {
   "display_name": "Python 3 (ipykernel)",
   "language": "python",
   "name": "python3"
  },
  "language_info": {
   "codemirror_mode": {
    "name": "ipython",
    "version": 3
   },
   "file_extension": ".py",
   "mimetype": "text/x-python",
   "name": "python",
   "nbconvert_exporter": "python",
   "pygments_lexer": "ipython3",
   "version": "3.11.5"
  }
 },
 "nbformat": 4,
 "nbformat_minor": 5
}
