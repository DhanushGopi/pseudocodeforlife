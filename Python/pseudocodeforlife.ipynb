{
 "cells": [
  {
   "cell_type": "markdown",
   "id": "1c4ad913",
   "metadata": {},
   "source": [
    "# # Reverse a number and some of it's digits!"
   ]
  },
  {
   "cell_type": "markdown",
   "id": "434b89cc",
   "metadata": {},
   "source": [
    "concept: https://medium.com/@ManBearPigCode/how-to-reverse-a-number-mathematically-97c556626ec6"
   ]
  },
  {
   "cell_type": "code",
   "execution_count": 33,
   "id": "ee1ff21f",
   "metadata": {},
   "outputs": [
    {
     "name": "stdout",
     "output_type": "stream",
     "text": [
      "Enter the numbers12345654321\n",
      "Reversed Digits are  12345654321\n",
      "Summation of Digits  36\n"
     ]
    }
   ],
   "source": [
    "num = int(input(\"Enter the numbers\"))\n",
    "rev_num = 0 \n",
    "sum_num = 0\n",
    "while num!=0:\n",
    "    digit = num % 10 #gets the last number\n",
    "    rev_num = rev_num * 10 + digit # adding up in reverse postional\n",
    "    num = num // 10 # removes the last digit\n",
    "    sum_num += digit #summing up the last digit\n",
    "print(\"Reversed Digits are \", rev_num)\n",
    "print(\"Summation of Digits \", sum_num)"
   ]
  },
  {
   "cell_type": "markdown",
   "id": "3b5ce1f6",
   "metadata": {},
   "source": [
    "# Armstrong number \n",
    "\n"
   ]
  },
  {
   "cell_type": "markdown",
   "id": "673a0cba",
   "metadata": {},
   "source": [
    "concept https://pages.mtu.edu/~shene/COURSES/cs201/NOTES/chap04/arms.html\n",
    "\n",
    "sample numbers : 0, 1, 153, 370, 371, 407 1634, 8208 and 9474"
   ]
  },
  {
   "cell_type": "code",
   "execution_count": 12,
   "id": "5da7e7a8",
   "metadata": {},
   "outputs": [
    {
     "name": "stdout",
     "output_type": "stream",
     "text": [
      "Enter the number23\n",
      "It is not a Armstrong Number\n"
     ]
    }
   ],
   "source": [
    "no = input(\"Enter the number\")\n",
    "temp = int(no)\n",
    "arm = 0\n",
    "while(temp!=0):\n",
    "    digit = temp % 10\n",
    "    cube = digit ** len(no)\n",
    "    temp//=10\n",
    "    arm+=cube\n",
    "\n",
    "if arm == int(no) :\n",
    "    print(\"It is a Armstrong number\")\n",
    "else :\n",
    "    print(\"It is not a Armstrong Number\")"
   ]
  },
  {
   "cell_type": "markdown",
   "id": "95724211",
   "metadata": {},
   "source": [
    "## Prime number"
   ]
  },
  {
   "cell_type": "markdown",
   "id": "1c1dc004",
   "metadata": {},
   "source": [
    "concept: https://www.cuemath.com/numbers/prime-numbers/"
   ]
  },
  {
   "cell_type": "code",
   "execution_count": null,
   "id": "636b3844",
   "metadata": {},
   "outputs": [],
   "source": [
    "#just for given number"
   ]
  },
  {
   "cell_type": "code",
   "execution_count": 37,
   "id": "479e9a38",
   "metadata": {},
   "outputs": [
    {
     "name": "stdout",
     "output_type": "stream",
     "text": [
      "Enter the number7\n",
      "Prime 7\n",
      "The prime 127\n"
     ]
    }
   ],
   "source": [
    "number = int(input(\"Enter the number\"))\n",
    "flagofout = 0\n",
    "for i in range(2,number):\n",
    "    if number % i == 0:\n",
    "        flagofout+=1\n",
    "        break\n",
    "\n",
    "if (flagofout == 1):\n",
    "    print(\"Not a prime\", number)\n",
    "else : \n",
    "    print(\"Prime\",number)\n",
    "\n",
    "primeno = (2**number)-1\n",
    "print(\"The prime\",primeno)"
   ]
  },
  {
   "cell_type": "code",
   "execution_count": null,
   "id": "9a27de72",
   "metadata": {},
   "outputs": [],
   "source": [
    "#just for interval of numbers"
   ]
  },
  {
   "cell_type": "code",
   "execution_count": 38,
   "id": "b1bef89d",
   "metadata": {},
   "outputs": [
    {
     "name": "stdout",
     "output_type": "stream",
     "text": [
      "Upper2\n",
      "Lower10\n",
      "Prime [3, 5, 7, 9]\n",
      "Not Prime [2, 4, 6, 8, 10]\n"
     ]
    }
   ],
   "source": [
    "prime = []\n",
    "notprime = []\n",
    "upper=int(input(\"Upper\"))\n",
    "lower = int(input(\"Lower\"))\n",
    "if (upper>1):\n",
    "    for i in range(upper,lower+1):\n",
    "            for j in range(2,i+1):\n",
    "                if i%j == 0:\n",
    "                    notprime.append(i)\n",
    "                    break\n",
    "                else:\n",
    "                    prime.append(i)\n",
    "                    break\n",
    "else:\n",
    "    print(\"Enter the upper value is greater than 1\")\n",
    "print(\"Prime\",prime)\n",
    "print(\"Not Prime\", notprime)"
   ]
  },
  {
   "cell_type": "code",
   "execution_count": null,
   "id": "6dd21458",
   "metadata": {},
   "outputs": [],
   "source": [
    "# set of numbers"
   ]
  },
  {
   "cell_type": "code",
   "execution_count": 15,
   "id": "ec709e5d",
   "metadata": {},
   "outputs": [
    {
     "name": "stdout",
     "output_type": "stream",
     "text": [
      "Enter the number range5\n",
      "Enter the value to be appended3\n",
      "Enter the value to be appended4\n",
      "Enter the value to be appended5\n",
      "Enter the value to be appended7\n",
      "Enter the value to be appended9\n",
      "[3, 4, 5, 7, 9]\n"
     ]
    }
   ],
   "source": [
    "nolist=[]\n",
    "lenlist = int(input(\"Enter the number range\"))\n",
    "for i in range(1,lenlist+1):\n",
    "    valueoflist = int(input(\"Enter the value to be appended\"))\n",
    "    nolist.append(valueoflist)\n",
    "print(nolist)"
   ]
  },
  {
   "cell_type": "markdown",
   "id": "1126a8b7",
   "metadata": {},
   "source": [
    "# Perfect Number"
   ]
  },
  {
   "cell_type": "markdown",
   "id": "361db00d",
   "metadata": {},
   "source": [
    "Concept: https://www.cuemath.com/numbers/perfect-numbers/"
   ]
  },
  {
   "cell_type": "code",
   "execution_count": 22,
   "id": "5cc927f3",
   "metadata": {},
   "outputs": [
    {
     "name": "stdout",
     "output_type": "stream",
     "text": [
      "Enter the number:3\n",
      "The prime number 3\n",
      "The Perfect Number is  28\n"
     ]
    }
   ],
   "source": [
    "number = int(input(\"Enter the number:\"))\n",
    "prime = 0\n",
    "composite = 0\n",
    "flag = 0\n",
    "if(number >1):\n",
    "    for i in range(2,number):\n",
    "        if number%i == 0:\n",
    "            flag += 1\n",
    "            break\n",
    "else:\n",
    "    print(\"only accepts the number is greater than 1\")\n",
    "\n",
    "if(flag == 1):\n",
    "    print(\"The composite number\", number)\n",
    "else:\n",
    "    print(\"The prime number\",number)\n",
    "    perfectformula = 2**(number-1)*((2**number)-1)\n",
    "    print(\"The Perfect Number is \", perfectformula)"
   ]
  },
  {
   "cell_type": "code",
   "execution_count": 42,
   "id": "0edfc28c",
   "metadata": {},
   "outputs": [
    {
     "name": "stdout",
     "output_type": "stream",
     "text": [
      "Upper2\n",
      "Lower20\n",
      "Prime [3, 5, 7, 9, 11, 13, 15, 17, 19]\n",
      "Not Prime [2, 4, 6, 8, 10, 12, 14, 16, 18, 20]\n",
      "The perfect 6\n",
      "The Prime Factor 3\n",
      "The perfect 28\n",
      "The Prime Factor 7\n",
      "The perfect 120\n",
      "The Prime Factor 15\n"
     ]
    }
   ],
   "source": [
    "prime = []\n",
    "notprime = []\n",
    "upper=int(input(\"Upper\"))\n",
    "lower = int(input(\"Lower\"))\n",
    "if (upper>1):\n",
    "    for i in range(upper,lower+1):\n",
    "            for j in range(2,i+1):\n",
    "                if i%j == 0:\n",
    "                    notprime.append(i)\n",
    "                    break\n",
    "                else:\n",
    "                    prime.append(i)\n",
    "                    break\n",
    "else:\n",
    "    print(\"Enter the upper value is greater than 1\")\n",
    "print(\"Prime\",prime)\n",
    "print(\"Not Prime\", notprime)\n",
    "\n",
    "listofprime = prime\n",
    "for i in range(upper,lower):\n",
    "    primefactor = (2**i)-1\n",
    "    perfectformula = 2**(i-1)*((2**i)-1)\n",
    "    if primefactor in listofprime:\n",
    "        print(\"The perfect\", perfectformula)\n",
    "        print(\"The Prime Factor\", primefactor)"
   ]
  },
  {
   "cell_type": "code",
   "execution_count": 48,
   "id": "c218afdf",
   "metadata": {},
   "outputs": [
    {
     "name": "stdout",
     "output_type": "stream",
     "text": [
      "Enter the number: 28\n",
      "The I 1\n",
      "The I 2\n",
      "The I 4\n",
      "The I 7\n",
      "The sum 14\n"
     ]
    }
   ],
   "source": [
    "sumofdivisor=0\n",
    "number=int(input(\"Enter the number: \"))\n",
    "for i in range(1,10):\n",
    "    if (number%i == 0):\n",
    "        print(\"The I\",i)\n",
    "        sumofdivisor+=i\n",
    "print(\"The sum\", sumofdivisor)"
   ]
  },
  {
   "cell_type": "code",
   "execution_count": null,
   "id": "036fb7d4",
   "metadata": {},
   "outputs": [],
   "source": []
  }
 ],
 "metadata": {
  "kernelspec": {
   "display_name": "Python 3 (ipykernel)",
   "language": "python",
   "name": "python3"
  },
  "language_info": {
   "codemirror_mode": {
    "name": "ipython",
    "version": 3
   },
   "file_extension": ".py",
   "mimetype": "text/x-python",
   "name": "python",
   "nbconvert_exporter": "python",
   "pygments_lexer": "ipython3",
   "version": "3.11.5"
  }
 },
 "nbformat": 4,
 "nbformat_minor": 5
}
