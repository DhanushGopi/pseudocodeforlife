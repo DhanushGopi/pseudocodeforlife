{
 "cells": [
  {
   "cell_type": "markdown",
   "id": "c0681a8e",
   "metadata": {},
   "source": [
    "## Perfect Number"
   ]
  },
  {
   "cell_type": "markdown",
   "id": "f961c00a",
   "metadata": {},
   "source": [
    "concept : https://www.cuemath.com/numbers/perfect-numbers/\n",
    "\n",
    "what is divisor: https://www.splashlearn.com/mathvocabulary/division/divisor"
   ]
  },
  {
   "cell_type": "code",
   "execution_count": 6,
   "id": "70124638",
   "metadata": {},
   "outputs": [
    {
     "name": "stdout",
     "output_type": "stream",
     "text": [
      "Enter the number:3\n",
      "The given number is not perfect number\n"
     ]
    }
   ],
   "source": [
    "number = int(input(\"Enter the number:\"))\n",
    "sum = 0\n",
    "for i in range(1,number):\n",
    "    if(number%i == 0):\n",
    "        sum+=i\n",
    "if(sum == number):\n",
    "    print(\"The given nummber is perfect number\")\n",
    "else:\n",
    "    \n",
    "    print(\"The given number is not perfect number\")"
   ]
  },
  {
   "cell_type": "code",
   "execution_count": 2,
   "id": "e861e230",
   "metadata": {},
   "outputs": [],
   "source": [
    "## for the between numbers"
   ]
  },
  {
   "cell_type": "code",
   "execution_count": 3,
   "id": "6b9c36da",
   "metadata": {},
   "outputs": [
    {
     "name": "stdout",
     "output_type": "stream",
     "text": [
      "From this number: 1\n",
      "To this number: 100\n",
      "The perfect numbers are [6, 28]\n"
     ]
    }
   ],
   "source": [
    "fromno = int(input(\"From this number: \"))\n",
    "tono = int(input(\"To this number: \"))\n",
    "sum = 0\n",
    "perfectlist=[]\n",
    "for j in range(fromno,tono+1):\n",
    "    for i in range(1,j):\n",
    "        divisor = j%i\n",
    "        if(divisor == 0):\n",
    "            sum+=i\n",
    "            continue\n",
    "    if(sum == j):\n",
    "        perfectlist.append(j)\n",
    "        sum = 0\n",
    "    else:\n",
    "        sum = 0\n",
    "print(\"The perfect numbers are\", perfectlist)"
   ]
  },
  {
   "cell_type": "code",
   "execution_count": null,
   "id": "e2781b73",
   "metadata": {},
   "outputs": [],
   "source": []
  }
 ],
 "metadata": {
  "kernelspec": {
   "display_name": "Python 3 (ipykernel)",
   "language": "python",
   "name": "python3"
  },
  "language_info": {
   "codemirror_mode": {
    "name": "ipython",
    "version": 3
   },
   "file_extension": ".py",
   "mimetype": "text/x-python",
   "name": "python",
   "nbconvert_exporter": "python",
   "pygments_lexer": "ipython3",
   "version": "3.11.5"
  }
 },
 "nbformat": 4,
 "nbformat_minor": 5
}
