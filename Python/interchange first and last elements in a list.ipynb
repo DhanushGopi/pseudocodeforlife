{
 "cells": [
  {
   "cell_type": "code",
   "execution_count": 36,
   "id": "51015046",
   "metadata": {},
   "outputs": [],
   "source": [
    "def swapstartandend(list1):\n",
    "    a=list1[0]\n",
    "    b=list1[-1]\n",
    "    list1.remove(list1[0])\n",
    "    list1.remove(list1[-1])\n",
    "    list1.insert(0,b)\n",
    "    list1.append(a)\n",
    "    return(list1)"
   ]
  },
  {
   "cell_type": "code",
   "execution_count": 41,
   "id": "a1264fd5",
   "metadata": {},
   "outputs": [],
   "source": [
    "def genlist():\n",
    "    listlen=int(input(\"enter the length\"))\n",
    "    finallist=[]\n",
    "    for i in range(1,listlen+1):\n",
    "        listvalue=int(input(\"enter the number for the list\"))\n",
    "        finallist.append(listvalue)\n",
    "    print(\"The list going to be used, \",finallist)\n",
    "    return(finallist)"
   ]
  },
  {
   "cell_type": "code",
   "execution_count": 42,
   "id": "c58568da",
   "metadata": {},
   "outputs": [
    {
     "name": "stdout",
     "output_type": "stream",
     "text": [
      "enter the length2\n",
      "enter the number for the list11\n",
      "enter the number for the list12\n",
      "The list going to be used,  [11, 12]\n"
     ]
    },
    {
     "data": {
      "text/plain": [
       "[12, 11]"
      ]
     },
     "execution_count": 42,
     "metadata": {},
     "output_type": "execute_result"
    }
   ],
   "source": [
    "swapstartandend(genlist())"
   ]
  },
  {
   "cell_type": "code",
   "execution_count": null,
   "id": "f048d6a7",
   "metadata": {},
   "outputs": [],
   "source": []
  }
 ],
 "metadata": {
  "kernelspec": {
   "display_name": "Python 3 (ipykernel)",
   "language": "python",
   "name": "python3"
  },
  "language_info": {
   "codemirror_mode": {
    "name": "ipython",
    "version": 3
   },
   "file_extension": ".py",
   "mimetype": "text/x-python",
   "name": "python",
   "nbconvert_exporter": "python",
   "pygments_lexer": "ipython3",
   "version": "3.11.5"
  }
 },
 "nbformat": 4,
 "nbformat_minor": 5
}
