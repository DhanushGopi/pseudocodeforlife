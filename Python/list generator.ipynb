{
 "cells": [
  {
   "cell_type": "code",
   "execution_count": 3,
   "id": "5838be47",
   "metadata": {},
   "outputs": [],
   "source": [
    "def genlist():\n",
    "    listlen = int(input(\"Enter the length of the list: \"))\n",
    "    finallist=[]\n",
    "    for i in range(0,listlen+1):\n",
    "        listvalue = eval(input(\"Enter the value to insert: \"))\n",
    "        finallist.append(listvalue)\n",
    "    print(\"The List: \",finallist)\n",
    "    return(finallist)\n",
    "    "
   ]
  },
  {
   "cell_type": "code",
   "execution_count": 2,
   "id": "e84b8608",
   "metadata": {},
   "outputs": [
    {
     "name": "stdout",
     "output_type": "stream",
     "text": [
      "Enter the length of the list5\n",
      "Enter the number\"dhanush\"\n",
      "Enter the number5\n",
      "Enter the number2\n",
      "Enter the number1.00\n",
      "Enter the number2\n",
      "Enter the number2\n",
      "The List:  ['dhanush', 5, 2, 1.0, 2, 2]\n"
     ]
    },
    {
     "data": {
      "text/plain": [
       "['dhanush', 5, 2, 1.0, 2, 2]"
      ]
     },
     "execution_count": 2,
     "metadata": {},
     "output_type": "execute_result"
    }
   ],
   "source": [
    "genlist()"
   ]
  },
  {
   "cell_type": "code",
   "execution_count": null,
   "id": "afe15c7e",
   "metadata": {},
   "outputs": [],
   "source": []
  }
 ],
 "metadata": {
  "kernelspec": {
   "display_name": "Python 3 (ipykernel)",
   "language": "python",
   "name": "python3"
  },
  "language_info": {
   "codemirror_mode": {
    "name": "ipython",
    "version": 3
   },
   "file_extension": ".py",
   "mimetype": "text/x-python",
   "name": "python",
   "nbconvert_exporter": "python",
   "pygments_lexer": "ipython3",
   "version": "3.11.5"
  }
 },
 "nbformat": 4,
 "nbformat_minor": 5
}
