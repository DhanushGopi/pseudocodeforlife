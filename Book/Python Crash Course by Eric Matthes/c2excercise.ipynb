{
 "cells": [
  {
   "cell_type": "markdown",
   "id": "862d396c",
   "metadata": {},
   "source": [
    "2-1. Simple Message: Store a message in a variable, and then print that message."
   ]
  },
  {
   "cell_type": "code",
   "execution_count": 1,
   "id": "ace0a578",
   "metadata": {},
   "outputs": [
    {
     "name": "stdout",
     "output_type": "stream",
     "text": [
      "Dhanush Gopi\n"
     ]
    }
   ],
   "source": [
    "name = \"Dhanush Gopi\"\n",
    "print(name)"
   ]
  },
  {
   "cell_type": "markdown",
   "id": "f057d3f8",
   "metadata": {},
   "source": [
    "2-2. Simple Messages: Store a message in a variable, and print that message.Then change the value of your variable to a new message, and print the new message"
   ]
  },
  {
   "cell_type": "code",
   "execution_count": 2,
   "id": "9ba3cf38",
   "metadata": {},
   "outputs": [
    {
     "name": "stdout",
     "output_type": "stream",
     "text": [
      "DANZU™️\n"
     ]
    }
   ],
   "source": [
    "name = \"DANZU™️\"\n",
    "print(name)"
   ]
  },
  {
   "cell_type": "markdown",
   "id": "a1127440",
   "metadata": {},
   "source": [
    "2-3. Personal Message: Store a person’s name in a variable, and print a message to that person. Your message should be simple, such as, “Hello Eric, would you like to learn some Python today?”\n"
   ]
  },
  {
   "cell_type": "code",
   "execution_count": 8,
   "id": "7d78b939",
   "metadata": {},
   "outputs": [
    {
     "name": "stdout",
     "output_type": "stream",
     "text": [
      "it is my old name for my personal brand DANSU™️\n"
     ]
    }
   ],
   "source": [
    "name =\"DANSU™️\"\n",
    "print(\"it is my old name for my personal brand\",name)"
   ]
  },
  {
   "cell_type": "markdown",
   "id": "3ce26b9e",
   "metadata": {},
   "source": [
    "2-4. Name Cases: Store a person’s name in a variable, and then print that person’s name in lowercase, uppercase, and titlecase."
   ]
  },
  {
   "cell_type": "code",
   "execution_count": 12,
   "id": "25d2ddc1",
   "metadata": {},
   "outputs": [
    {
     "name": "stdout",
     "output_type": "stream",
     "text": [
      "The Lower Case:  dansu™️\n",
      "The Upper Case:  DANSU™️\n",
      "The Title Case:  Dansu™️\n"
     ]
    }
   ],
   "source": [
    "print(\"The Lower Case: \",name.lower())\n",
    "print(\"The Upper Case: \",name.upper())\n",
    "print(\"The Title Case: \",name.title())"
   ]
  },
  {
   "cell_type": "markdown",
   "id": "5a64e6b1",
   "metadata": {},
   "source": [
    "2-5. Famous Quote: Find a quote from a famous person you admire. Print the\n",
    "quote and the name of its author. Your output should look something like the following, including the quotation marks:\n",
    "    Albert Einstein once said, “A person who never made a\n",
    "    mistake never tried anything new.”"
   ]
  },
  {
   "cell_type": "code",
   "execution_count": 29,
   "id": "d430cc72",
   "metadata": {},
   "outputs": [
    {
     "name": "stdout",
     "output_type": "stream",
     "text": [
      "The Quote that inspired me on 29 jan 2024 is, \"SUCCESS DOESN'T COME FROM WHAT YOU DO OCCASIONALLY. IT COMES FROM WHAT YOU DO CONSISTENTLY\"\n"
     ]
    }
   ],
   "source": [
    "quote ='''\"Success doesn't come from what you do occasionally. it comes from what you do consistently\"'''\n",
    "print(\"The Quote that inspired me on 29 jan 2024 is,\",quote.upper())"
   ]
  },
  {
   "cell_type": "markdown",
   "id": "2d67f646",
   "metadata": {},
   "source": [
    "2-6. Famous Quote 2: Repeat Exercise 2-5, but this time store the famous person’s name in a variable called famous_person. Then compose your message\n",
    "and store it in a new variable called message. Print your message"
   ]
  },
  {
   "cell_type": "code",
   "execution_count": 30,
   "id": "1382473d",
   "metadata": {},
   "outputs": [
    {
     "name": "stdout",
     "output_type": "stream",
     "text": [
      "Once DANZU™️ felt the Quote that inspired me on 29 jan 2024 is,\"SUCCESS DOESN'T COME FROM WHAT YOU DO OCCASIONALLY. IT COMES FROM WHAT YOU DO CONSISTENTLY\"\n"
     ]
    }
   ],
   "source": [
    "name = \"DANZU™️\"\n",
    "quotemsg = \"Once \"+name+\" felt the Quote that inspired me on 29 jan 2024 is,\" + quote.upper()\n",
    "print(quotemsg)"
   ]
  },
  {
   "cell_type": "markdown",
   "id": "42b1ad8c",
   "metadata": {},
   "source": [
    "2-7. Stripping Names: Store a person’s name, and include some whitespace\n",
    "characters at the beginning and end of the name. Make sure you use each\n",
    "character combination, \"\\t\" and \"\\n\", at least once.\n",
    "Print the name once, so the whitespace around the name is displayed.\n",
    "Then print the name using each of the three stripping functions, lstrip(),\n",
    "rstrip(), and strip()."
   ]
  },
  {
   "cell_type": "code",
   "execution_count": 21,
   "id": "70474fc4",
   "metadata": {},
   "outputs": [
    {
     "name": "stdout",
     "output_type": "stream",
     "text": [
      "\t\tMr.DANZU dansu\t\t\n",
      "18\n"
     ]
    }
   ],
   "source": [
    " thetext=\"\\t\\tMr.DANZU dansu\\t\\t\"\n",
    "print(thetext)\n",
    "print(len(thetext))"
   ]
  },
  {
   "cell_type": "code",
   "execution_count": 22,
   "id": "fd5c4982",
   "metadata": {},
   "outputs": [
    {
     "name": "stdout",
     "output_type": "stream",
     "text": [
      "16\n"
     ]
    }
   ],
   "source": [
    "lstriper=thetext.lstrip()\n",
    "print(len(lstriper))"
   ]
  },
  {
   "cell_type": "code",
   "execution_count": 25,
   "id": "3ab41118",
   "metadata": {},
   "outputs": [
    {
     "name": "stdout",
     "output_type": "stream",
     "text": [
      "16\n"
     ]
    }
   ],
   "source": [
    "rstiper=thetext.rstrip()\n",
    "print(len(rstiper))"
   ]
  },
  {
   "cell_type": "code",
   "execution_count": 26,
   "id": "4c7ed321",
   "metadata": {},
   "outputs": [
    {
     "name": "stdout",
     "output_type": "stream",
     "text": [
      "14\n"
     ]
    }
   ],
   "source": [
    "striper = thetext.strip()\n",
    "print(len(striper))"
   ]
  },
  {
   "cell_type": "code",
   "execution_count": null,
   "id": "946eefb4",
   "metadata": {},
   "outputs": [],
   "source": []
  }
 ],
 "metadata": {
  "kernelspec": {
   "display_name": "Python 3 (ipykernel)",
   "language": "python",
   "name": "python3"
  },
  "language_info": {
   "codemirror_mode": {
    "name": "ipython",
    "version": 3
   },
   "file_extension": ".py",
   "mimetype": "text/x-python",
   "name": "python",
   "nbconvert_exporter": "python",
   "pygments_lexer": "ipython3",
   "version": "3.11.5"
  }
 },
 "nbformat": 4,
 "nbformat_minor": 5
}
